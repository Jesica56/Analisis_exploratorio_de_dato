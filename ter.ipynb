{
 "cells": [
  {
   "cell_type": "code",
   "execution_count": 5,
   "id": "6eac8b0e",
   "metadata": {},
   "outputs": [],
   "source": [
    "import pandas as info"
   ]
  },
  {
   "cell_type": "code",
   "execution_count": 8,
   "id": "0c45c102",
   "metadata": {},
   "outputs": [],
   "source": [
    "datos = info.read_excel('./DATOS-PRACTICA-CEUNSASB-01.xlsx')"
   ]
  },
  {
   "cell_type": "code",
   "execution_count": 9,
   "id": "503ee3b5",
   "metadata": {},
   "outputs": [
    {
     "data": {
      "text/html": [
       "<div>\n",
       "<style scoped>\n",
       "    .dataframe tbody tr th:only-of-type {\n",
       "        vertical-align: middle;\n",
       "    }\n",
       "\n",
       "    .dataframe tbody tr th {\n",
       "        vertical-align: top;\n",
       "    }\n",
       "\n",
       "    .dataframe thead th {\n",
       "        text-align: right;\n",
       "    }\n",
       "</style>\n",
       "<table border=\"1\" class=\"dataframe\">\n",
       "  <thead>\n",
       "    <tr style=\"text-align: right;\">\n",
       "      <th></th>\n",
       "      <th>ORDEN</th>\n",
       "      <th>ESCUELA</th>\n",
       "      <th>TIPO DE EJEMPLAR</th>\n",
       "      <th>NOMBRE</th>\n",
       "      <th>CLASE</th>\n",
       "      <th>GENERO</th>\n",
       "    </tr>\n",
       "  </thead>\n",
       "  <tbody>\n",
       "    <tr>\n",
       "      <th>0</th>\n",
       "      <td>1</td>\n",
       "      <td>ESCUELA OFICIOS</td>\n",
       "      <td>DNI-EA</td>\n",
       "      <td>RAUL MANUEL</td>\n",
       "      <td>1948</td>\n",
       "      <td>M</td>\n",
       "    </tr>\n",
       "    <tr>\n",
       "      <th>1</th>\n",
       "      <td>2</td>\n",
       "      <td>ESCUELA OFICIOS</td>\n",
       "      <td>DNI</td>\n",
       "      <td>BELEN ZULEMA</td>\n",
       "      <td>1980</td>\n",
       "      <td>F</td>\n",
       "    </tr>\n",
       "    <tr>\n",
       "      <th>2</th>\n",
       "      <td>3</td>\n",
       "      <td>ESCUELA OFICIOS</td>\n",
       "      <td>DNI-EA</td>\n",
       "      <td>BETSABE AMERICA</td>\n",
       "      <td>1988</td>\n",
       "      <td>F</td>\n",
       "    </tr>\n",
       "    <tr>\n",
       "      <th>3</th>\n",
       "      <td>4</td>\n",
       "      <td>ESCUELA OFICIOS</td>\n",
       "      <td>DNI-EA</td>\n",
       "      <td>LUIS ALBERTO</td>\n",
       "      <td>1950</td>\n",
       "      <td>M</td>\n",
       "    </tr>\n",
       "    <tr>\n",
       "      <th>4</th>\n",
       "      <td>5</td>\n",
       "      <td>ESCUELA OFICIOS</td>\n",
       "      <td>DNI-EB</td>\n",
       "      <td>LUIS ENRIQUE</td>\n",
       "      <td>1982</td>\n",
       "      <td>M</td>\n",
       "    </tr>\n",
       "  </tbody>\n",
       "</table>\n",
       "</div>"
      ],
      "text/plain": [
       "   ORDEN          ESCUELA TIPO DE EJEMPLAR           NOMBRE  CLASE GENERO\n",
       "0      1  ESCUELA OFICIOS           DNI-EA      RAUL MANUEL   1948      M\n",
       "1      2  ESCUELA OFICIOS              DNI     BELEN ZULEMA   1980      F\n",
       "2      3  ESCUELA OFICIOS           DNI-EA  BETSABE AMERICA   1988      F\n",
       "3      4  ESCUELA OFICIOS           DNI-EA     LUIS ALBERTO   1950      M\n",
       "4      5  ESCUELA OFICIOS           DNI-EB     LUIS ENRIQUE   1982      M"
      ]
     },
     "execution_count": 9,
     "metadata": {},
     "output_type": "execute_result"
    }
   ],
   "source": [
    "datos.head()"
   ]
  },
  {
   "cell_type": "code",
   "execution_count": 10,
   "id": "43db1525",
   "metadata": {},
   "outputs": [
    {
     "data": {
      "text/plain": [
       "ESCUELA\n",
       "ESCUELA BACHILLER    4662\n",
       "ESCUELA INICIAL      3322\n",
       "ESCUELA OFICIOS      3996\n",
       "ESCUELA PERIFERIA    2324\n",
       "dtype: int64"
      ]
     },
     "execution_count": 10,
     "metadata": {},
     "output_type": "execute_result"
    }
   ],
   "source": [
    "datos.groupby('ESCUELA').size()"
   ]
  },
  {
   "cell_type": "code",
   "execution_count": 11,
   "id": "3ffcfc6c",
   "metadata": {},
   "outputs": [
    {
     "data": {
      "text/plain": [
       "NOMBRE\n",
       "JUAN CARLOS        66\n",
       "MIGUEL ANGEL       50\n",
       "JOSE LUIS          36\n",
       "ANA MARIA          33\n",
       "JORGE LUIS         29\n",
       "                   ..\n",
       "FLAVIA JIMENA       1\n",
       "FLAVIA LISANDRA     1\n",
       "FLAVIA NATALIA      1\n",
       "FLAVIA PLACIDA      1\n",
       "ZULMA NORA          1\n",
       "Name: count, Length: 10091, dtype: int64"
      ]
     },
     "execution_count": 11,
     "metadata": {},
     "output_type": "execute_result"
    }
   ],
   "source": [
    "datos.value_counts('NOMBRE')"
   ]
  },
  {
   "cell_type": "code",
   "execution_count": null,
   "id": "838f792e",
   "metadata": {},
   "outputs": [],
   "source": []
  }
 ],
 "metadata": {
  "kernelspec": {
   "display_name": "Python 3",
   "language": "python",
   "name": "python3"
  },
  "language_info": {
   "codemirror_mode": {
    "name": "ipython",
    "version": 3
   },
   "file_extension": ".py",
   "mimetype": "text/x-python",
   "name": "python",
   "nbconvert_exporter": "python",
   "pygments_lexer": "ipython3",
   "version": "3.11.11"
  }
 },
 "nbformat": 4,
 "nbformat_minor": 5
}
